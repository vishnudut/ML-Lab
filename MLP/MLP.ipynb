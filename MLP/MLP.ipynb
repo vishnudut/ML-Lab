{
 "cells": [
  {
   "cell_type": "markdown",
   "metadata": {},
   "source": [
    "# Multi-layer Perceptron\n",
    "\n",
    "## Lab-Assignment 6\n",
    "\n",
    "    - V.VISHNU DUT\n",
    "    - 16BCE1103\n",
    "\n"
   ]
  },
  {
   "cell_type": "markdown",
   "metadata": {},
   "source": [
    "## Dataset: \n",
    "\n",
    "Given dataset is the wheatSeed dataset which has the following column \n",
    "\n",
    "- area \n",
    "- perimeter\n",
    "- compactness\n",
    "- lengthOfKernel\n",
    "- widthOfKernel\n",
    "- asymmetryCoefficient\n",
    "- lengthOfKernelGroove\n",
    "- TypeOfWheatSeed"
   ]
  },
  {
   "cell_type": "code",
   "execution_count": 1,
   "metadata": {},
   "outputs": [
    {
     "name": "stderr",
     "output_type": "stream",
     "text": [
      "/usr/lib64/python3.6/importlib/_bootstrap.py:219: RuntimeWarning: numpy.dtype size changed, may indicate binary incompatibility. Expected 96, got 88\n",
      "  return f(*args, **kwds)\n",
      "/usr/lib64/python3.6/importlib/_bootstrap.py:219: RuntimeWarning: numpy.dtype size changed, may indicate binary incompatibility. Expected 96, got 88\n",
      "  return f(*args, **kwds)\n"
     ]
    }
   ],
   "source": [
    "import pandas as pd\n",
    "import numpy as np\n",
    "import matplotlib.pyplot as plt\n",
    "import sklearn as sk\n",
    "from sklearn.neural_network import MLPClassifier\n",
    "from sklearn.model_selection import train_test_split\n",
    "from sklearn.preprocessing import StandardScaler\n",
    "from sklearn.metrics import classification_report, accuracy_score"
   ]
  },
  {
   "cell_type": "code",
   "execution_count": 2,
   "metadata": {},
   "outputs": [],
   "source": [
    "col_Names=[\"area\", \"perimeter\", \"compactness\", \"lengthOfKernel\", \"widthOfKernel\", \"asymmetryCoefficient\", \"lengthOfKernelGroove\", \"TypeOfWheatSeed\"]\n",
    "data = pd.read_csv(\"seeds_dataset.csv\",names=col_Names, header = None)"
   ]
  },
  {
   "cell_type": "code",
   "execution_count": 3,
   "metadata": {},
   "outputs": [
    {
     "data": {
      "text/html": [
       "<div>\n",
       "<style scoped>\n",
       "    .dataframe tbody tr th:only-of-type {\n",
       "        vertical-align: middle;\n",
       "    }\n",
       "\n",
       "    .dataframe tbody tr th {\n",
       "        vertical-align: top;\n",
       "    }\n",
       "\n",
       "    .dataframe thead th {\n",
       "        text-align: right;\n",
       "    }\n",
       "</style>\n",
       "<table border=\"1\" class=\"dataframe\">\n",
       "  <thead>\n",
       "    <tr style=\"text-align: right;\">\n",
       "      <th></th>\n",
       "      <th>area</th>\n",
       "      <th>perimeter</th>\n",
       "      <th>compactness</th>\n",
       "      <th>lengthOfKernel</th>\n",
       "      <th>widthOfKernel</th>\n",
       "      <th>asymmetryCoefficient</th>\n",
       "      <th>lengthOfKernelGroove</th>\n",
       "      <th>TypeOfWheatSeed</th>\n",
       "    </tr>\n",
       "  </thead>\n",
       "  <tbody>\n",
       "    <tr>\n",
       "      <th>0</th>\n",
       "      <td>15.26</td>\n",
       "      <td>14.84</td>\n",
       "      <td>0.8710</td>\n",
       "      <td>5.763</td>\n",
       "      <td>3.312</td>\n",
       "      <td>2.221</td>\n",
       "      <td>5.220</td>\n",
       "      <td>1</td>\n",
       "    </tr>\n",
       "    <tr>\n",
       "      <th>1</th>\n",
       "      <td>14.88</td>\n",
       "      <td>14.57</td>\n",
       "      <td>0.8811</td>\n",
       "      <td>5.554</td>\n",
       "      <td>3.333</td>\n",
       "      <td>1.018</td>\n",
       "      <td>4.956</td>\n",
       "      <td>1</td>\n",
       "    </tr>\n",
       "    <tr>\n",
       "      <th>2</th>\n",
       "      <td>14.29</td>\n",
       "      <td>14.09</td>\n",
       "      <td>0.9050</td>\n",
       "      <td>5.291</td>\n",
       "      <td>3.337</td>\n",
       "      <td>2.699</td>\n",
       "      <td>4.825</td>\n",
       "      <td>1</td>\n",
       "    </tr>\n",
       "    <tr>\n",
       "      <th>3</th>\n",
       "      <td>13.84</td>\n",
       "      <td>13.94</td>\n",
       "      <td>0.8955</td>\n",
       "      <td>5.324</td>\n",
       "      <td>3.379</td>\n",
       "      <td>2.259</td>\n",
       "      <td>4.805</td>\n",
       "      <td>1</td>\n",
       "    </tr>\n",
       "    <tr>\n",
       "      <th>4</th>\n",
       "      <td>16.14</td>\n",
       "      <td>14.99</td>\n",
       "      <td>0.9034</td>\n",
       "      <td>5.658</td>\n",
       "      <td>3.562</td>\n",
       "      <td>1.355</td>\n",
       "      <td>5.175</td>\n",
       "      <td>1</td>\n",
       "    </tr>\n",
       "  </tbody>\n",
       "</table>\n",
       "</div>"
      ],
      "text/plain": [
       "    area  perimeter  compactness  lengthOfKernel  widthOfKernel  \\\n",
       "0  15.26      14.84       0.8710           5.763          3.312   \n",
       "1  14.88      14.57       0.8811           5.554          3.333   \n",
       "2  14.29      14.09       0.9050           5.291          3.337   \n",
       "3  13.84      13.94       0.8955           5.324          3.379   \n",
       "4  16.14      14.99       0.9034           5.658          3.562   \n",
       "\n",
       "   asymmetryCoefficient  lengthOfKernelGroove  TypeOfWheatSeed  \n",
       "0                 2.221                 5.220                1  \n",
       "1                 1.018                 4.956                1  \n",
       "2                 2.699                 4.825                1  \n",
       "3                 2.259                 4.805                1  \n",
       "4                 1.355                 5.175                1  "
      ]
     },
     "execution_count": 3,
     "metadata": {},
     "output_type": "execute_result"
    }
   ],
   "source": [
    "data.head()"
   ]
  },
  {
   "cell_type": "code",
   "execution_count": 4,
   "metadata": {},
   "outputs": [
    {
     "data": {
      "text/plain": [
       "area                    False\n",
       "perimeter               False\n",
       "compactness             False\n",
       "lengthOfKernel          False\n",
       "widthOfKernel           False\n",
       "asymmetryCoefficient    False\n",
       "lengthOfKernelGroove    False\n",
       "TypeOfWheatSeed         False\n",
       "dtype: bool"
      ]
     },
     "execution_count": 4,
     "metadata": {},
     "output_type": "execute_result"
    }
   ],
   "source": [
    "data.isnull().any()"
   ]
  },
  {
   "cell_type": "code",
   "execution_count": 5,
   "metadata": {},
   "outputs": [],
   "source": [
    "X = data[[\"area\",\"perimeter\",\"compactness\",\"lengthOfKernel\",\"widthOfKernel\",\"asymmetryCoefficient\",\"lengthOfKernelGroove\"]].values"
   ]
  },
  {
   "cell_type": "code",
   "execution_count": 6,
   "metadata": {},
   "outputs": [],
   "source": [
    "Y = data[\"TypeOfWheatSeed\"].values"
   ]
  },
  {
   "cell_type": "code",
   "execution_count": 7,
   "metadata": {},
   "outputs": [],
   "source": [
    "X_train, X_test, y_train, y_test = train_test_split(X, Y, test_size=0.2, random_state=0)  "
   ]
  },
  {
   "cell_type": "code",
   "execution_count": 8,
   "metadata": {},
   "outputs": [],
   "source": [
    "scaler = StandardScaler()\n",
    "scaler.fit(X_train)\n",
    "X_train = scaler.transform(X_train)\n",
    "X_test = scaler.transform(X_test)"
   ]
  },
  {
   "cell_type": "code",
   "execution_count": 9,
   "metadata": {},
   "outputs": [],
   "source": [
    "mlpSeed = MLPClassifier(hidden_layer_sizes = (13,13,13), max_iter = 500)"
   ]
  },
  {
   "cell_type": "code",
   "execution_count": 10,
   "metadata": {},
   "outputs": [
    {
     "name": "stderr",
     "output_type": "stream",
     "text": [
      "/usr/local/lib64/python3.6/site-packages/sklearn/neural_network/multilayer_perceptron.py:564: ConvergenceWarning: Stochastic Optimizer: Maximum iterations (500) reached and the optimization hasn't converged yet.\n",
      "  % self.max_iter, ConvergenceWarning)\n"
     ]
    },
    {
     "data": {
      "text/plain": [
       "MLPClassifier(activation='relu', alpha=0.0001, batch_size='auto', beta_1=0.9,\n",
       "       beta_2=0.999, early_stopping=False, epsilon=1e-08,\n",
       "       hidden_layer_sizes=(13, 13, 13), learning_rate='constant',\n",
       "       learning_rate_init=0.001, max_iter=500, momentum=0.9,\n",
       "       nesterovs_momentum=True, power_t=0.5, random_state=None,\n",
       "       shuffle=True, solver='adam', tol=0.0001, validation_fraction=0.1,\n",
       "       verbose=False, warm_start=False)"
      ]
     },
     "execution_count": 10,
     "metadata": {},
     "output_type": "execute_result"
    }
   ],
   "source": [
    "mlpSeed.fit(X_train, y_train)   "
   ]
  },
  {
   "cell_type": "code",
   "execution_count": 11,
   "metadata": {},
   "outputs": [
    {
     "name": "stdout",
     "output_type": "stream",
     "text": [
      "Final Weights for 1 layer:\n",
      "\n",
      "Weights for 1 neuron:\n",
      "[ 0.05037036  0.48073998  0.25986252 -0.02404493 -0.4137057   0.07858686\n",
      "  0.02031089 -0.55035207 -0.35798105 -0.55522485  0.42878139 -0.2391529\n",
      "  0.5061455 ]\n",
      "Weights for 2 neuron:\n",
      "[ 0.39027587 -0.40568775  0.21915982 -0.41001615  0.06430165  0.48918334\n",
      "  0.41406191 -0.23905137 -0.09350161 -0.06484931  0.25420136  0.18222067\n",
      "  0.05793746]\n",
      "Weights for 3 neuron:\n",
      "[-0.10638308  0.18912971  0.53132688  0.12895254  0.38068994  0.35235012\n",
      " -0.39480102  0.65177609 -0.64555403 -0.52898776  0.63838925 -0.59622298\n",
      " -0.19358059]\n",
      "Weights for 4 neuron:\n",
      "[-0.23627274 -0.16023957  0.44905009  0.39303171 -0.29020374  0.55466832\n",
      "  0.30452571  0.60159087 -0.55573631  0.02032076 -0.28292764 -0.23749191\n",
      "  0.47670155]\n",
      "Weights for 5 neuron:\n",
      "[ 0.09091536  0.54781303  0.02043446 -0.36409188  0.2718016   0.2903459\n",
      "  0.31419198  0.16522831 -0.01777328  0.16631524  0.47438277 -0.71750675\n",
      "  0.20000005]\n",
      "Weights for 6 neuron:\n",
      "[-0.71803734  0.44417748 -0.1029692   0.38116566 -0.7971784  -0.19961718\n",
      " -0.34798036 -0.23419646 -0.27510987 -0.17636583  0.48735132  0.61951022\n",
      " -0.0141347 ]\n",
      "Weights for 7 neuron:\n",
      "[ 0.28060392  0.032772    0.22382446  0.83356329 -0.11477589  0.2521969\n",
      " -0.83975627 -0.3492199  -0.32356249 -0.62275365  0.35009507 -0.19071911\n",
      "  0.23686013]\n",
      "Final Weights for 2 layer:\n",
      "\n",
      "Weights for 1 neuron:\n",
      "[-0.19903534  0.34956701  0.03681047  0.25349043  0.53983641  0.46409615\n",
      " -0.00839962 -0.29762744  0.0759085   0.21016015  0.27786265  0.12444873\n",
      "  0.31943779]\n",
      "Weights for 2 neuron:\n",
      "[ 0.31868027 -0.14276691 -0.27257678 -0.1268822  -0.26295467  0.26074085\n",
      "  0.06706488  0.14363425  0.4562817   0.26173983 -0.66044105  0.3412685\n",
      "  0.54339376]\n",
      "Weights for 3 neuron:\n",
      "[ 0.53739737 -0.11847857 -0.07964103 -0.42459328  0.03514385  0.13050031\n",
      "  0.63467718  0.49121778  0.17461576 -0.13500295 -0.0334631  -0.08459328\n",
      " -0.35956735]\n",
      "Weights for 4 neuron:\n",
      "[ 0.31967758  0.22945284  0.11462373 -0.00929401  0.50203065  0.22496873\n",
      "  0.16272364 -0.341615    0.25877048 -0.22482571 -0.56579379 -0.43667976\n",
      "  0.54757695]\n",
      "Weights for 5 neuron:\n",
      "[-0.35902681 -0.31327269 -0.33838525 -0.4079003   0.09914852 -0.04998517\n",
      " -0.33529551  0.68913979  0.14544322  0.43629015  0.45985997 -0.15319611\n",
      " -0.29759443]\n",
      "Weights for 6 neuron:\n",
      "[ 0.37874705 -0.17370228  0.29901614  0.02138698  0.38824225  0.41365696\n",
      "  0.05566888 -0.32081285  0.25794159 -0.28907738 -0.06172254 -0.11636985\n",
      " -0.32877992]\n",
      "Weights for 7 neuron:\n",
      "[ 0.25365392 -0.23946978  0.13816744 -0.24248147 -0.46660263 -0.73811873\n",
      "  0.56670746  0.56798321  0.02974474 -0.87163981  0.56769244 -0.32906285\n",
      " -0.03833389]\n",
      "Weights for 8 neuron:\n",
      "[-0.32578382  0.33290158 -0.76265175 -0.12513014 -0.53898139 -0.34596272\n",
      "  0.33796664  0.50978072  0.23922293  0.33957823  0.00128684 -0.00186305\n",
      " -0.26448209]\n",
      "Weights for 9 neuron:\n",
      "[-0.29764641  0.07584569  0.25504096  0.00079364  0.25413212  0.27653469\n",
      " -0.20988497  0.13566677  0.2621428   0.20206407  0.11942407 -0.22937518\n",
      "  0.46946097]\n",
      "Weights for 10 neuron:\n",
      "[-0.45700854 -0.14717647 -0.5271703   0.53519804  0.09771829 -0.12996626\n",
      "  0.2733803   0.31984401 -0.27725912  0.16218458  0.65177946 -0.35981687\n",
      " -0.04438624]\n",
      "Weights for 11 neuron:\n",
      "[-0.31593679  0.14076287  0.30544248  0.07876677  0.43352658  0.28507211\n",
      "  0.7531099  -0.54273345 -0.12873403  0.02782888 -0.64734039  0.39959393\n",
      " -0.3228074 ]\n",
      "Weights for 12 neuron:\n",
      "[-0.28668419 -0.07745589 -0.07979957  0.53603629  0.13223971  0.37514833\n",
      "  0.04912088  0.16376984 -0.01130738  0.17839607 -0.04294509  0.30460149\n",
      "  0.53026311]\n",
      "Weights for 13 neuron:\n",
      "[ 0.33630027 -0.48138423  0.2263009  -0.43822064  0.39631042  0.11938069\n",
      "  0.26691575 -0.3856934   0.36317245 -0.15260684  0.35910659 -0.19666486\n",
      " -0.32228359]\n",
      "Final Weights for 3 layer:\n",
      "\n",
      "Weights for 1 neuron:\n",
      "[-0.33654551  0.57456572 -0.48434454  0.13477677 -0.13157517  0.31173427\n",
      " -0.15134079 -0.20336356 -0.31751177  0.23907134  0.47048029 -0.24876385\n",
      "  0.23175732]\n",
      "Weights for 2 neuron:\n",
      "[-0.00241767 -0.38884078  0.03063496  0.02900063 -0.30534965  0.302854\n",
      "  0.49145624  0.36355158 -0.20254697  0.09156798 -0.34466415  0.14356881\n",
      " -0.29622842]\n",
      "Weights for 3 neuron:\n",
      "[ 0.07677423  0.25243181 -0.36267428  0.42475409  0.02293258 -0.54004421\n",
      " -0.01852508 -0.28112943 -0.81057042  0.71347867  0.38186578 -0.19285458\n",
      " -0.44211987]\n",
      "Weights for 4 neuron:\n",
      "[-7.99653500e-02 -1.76638822e-01  4.80854930e-01 -5.23629920e-05\n",
      " -8.12473509e-01  3.27260251e-01 -2.23828238e-01  6.20890483e-01\n",
      " -1.31066577e-01  1.04673066e-11  9.93836130e-02 -4.47619615e-01\n",
      " -1.70674135e-01]\n",
      "Weights for 5 neuron:\n",
      "[ 0.36014765 -0.13524447  0.26968049  0.27845667  0.56081328  0.26199328\n",
      "  0.11914472 -0.44015875 -0.86626346  0.41639296  0.44987645  0.33092152\n",
      " -0.17412909]\n",
      "Weights for 6 neuron:\n",
      "[ 0.70666011  0.17422994  0.54092094 -0.05196793  0.64252785  0.17861581\n",
      "  0.24656746  0.38229985  0.56415444  0.34857815  0.46367902 -0.05699635\n",
      " -0.25394905]\n",
      "Weights for 7 neuron:\n",
      "[-0.72039366  0.07630646 -0.55837076  0.37759022  0.5417849  -0.30836617\n",
      " -0.26682401  0.14076707  0.04534327  0.20545418 -0.28787931 -0.13387933\n",
      "  0.37728999]\n",
      "Weights for 8 neuron:\n",
      "[ 0.26912434 -0.31186492 -0.22899618 -0.57426719 -0.128123   -0.13967013\n",
      "  0.43494764  0.65779611  0.58375921 -0.62395189 -0.23584409 -0.43735058\n",
      "  0.31844345]\n",
      "Weights for 9 neuron:\n",
      "[-0.01178865  0.3055205   0.22470179 -0.13623283  0.29759116 -0.1720636\n",
      " -0.09678859 -0.28833445  0.6285474   0.29945784  0.261047    0.2706146\n",
      "  0.33307954]\n",
      "Weights for 10 neuron:\n",
      "[ 0.77636825 -0.25546487  0.65373701 -0.3033133  -0.34127866  0.80655537\n",
      " -0.29243874  0.54731035  0.12737404 -0.51477141  0.1296067   0.48504017\n",
      " -0.30614304]\n",
      "Weights for 11 neuron:\n",
      "[-0.16670777 -0.79467187 -0.03162422 -0.31110161  0.26215211  0.1062133\n",
      "  0.17441085  0.62358229 -0.28821919 -0.18687492  0.00993231  0.0431947\n",
      "  0.87561925]\n",
      "Weights for 12 neuron:\n",
      "[-0.10438759 -0.17390779 -0.26434399 -0.0565102   0.13536274 -0.25279241\n",
      " -0.30062158 -0.29781327  0.40140765 -0.27596291  0.03893839  0.46781442\n",
      " -0.16359853]\n",
      "Weights for 13 neuron:\n",
      "[ 1.34746375e-01 -7.43739744e-02  5.17302994e-01  4.66264906e-04\n",
      " -3.79117093e-01  3.95522651e-01  1.30433571e-01 -1.40539442e-01\n",
      "  4.25671926e-01 -2.84647834e-04  7.32998352e-01 -2.97679658e-01\n",
      "  2.49085363e-01]\n",
      "Final Weights for 4 layer:\n",
      "\n",
      "Weights for 1 neuron:\n",
      "[-0.96898773 -0.8691233   0.96338669]\n",
      "Weights for 2 neuron:\n",
      "[-0.64713877  0.52922976 -0.62859755]\n",
      "Weights for 3 neuron:\n",
      "[-0.31922406 -0.3175744   0.46185919]\n",
      "Weights for 4 neuron:\n",
      "[-0.6842386   0.44498059  0.17125837]\n",
      "Weights for 5 neuron:\n",
      "[ 0.00104046  0.07571241 -0.86067443]\n",
      "Weights for 6 neuron:\n",
      "[0.00907079 0.1758355  0.70713848]\n",
      "Weights for 7 neuron:\n",
      "[0.64373798 0.14262174 0.44043616]\n",
      "Weights for 8 neuron:\n",
      "[-0.10528808 -0.68367902 -0.065054  ]\n",
      "Weights for 9 neuron:\n",
      "[ 0.17301135 -0.29772538  0.19606151]\n",
      "Weights for 10 neuron:\n",
      "[-0.91702814  0.52234014 -0.70196734]\n",
      "Weights for 11 neuron:\n",
      "[-0.70905093 -0.02528918 -0.20782297]\n",
      "Weights for 12 neuron:\n",
      "[ 0.04658139 -0.56151194 -0.58599934]\n",
      "Weights for 13 neuron:\n",
      "[ 0.7409257  -0.55455335 -0.64479854]\n"
     ]
    }
   ],
   "source": [
    "#printing each layers final weights\n",
    "for i,j in enumerate(mlpSeed.coefs_):\n",
    "    print(\"Final Weights for %d layer:\\n\" %(i+1))\n",
    "    for ind,val in enumerate(j):\n",
    "        print(\"Weights for %d neuron:\" %(ind+1))\n",
    "        print(val)"
   ]
  },
  {
   "cell_type": "code",
   "execution_count": 12,
   "metadata": {},
   "outputs": [],
   "source": [
    "predictions = mlpSeed.predict(X_test)"
   ]
  },
  {
   "cell_type": "code",
   "execution_count": 13,
   "metadata": {},
   "outputs": [
    {
     "name": "stdout",
     "output_type": "stream",
     "text": [
      "Accuracy of predictions: 92.86\n",
      "Classification Report for the MLP: \n",
      "             precision    recall  f1-score   support\n",
      "\n",
      "          1       0.81      1.00      0.90        13\n",
      "          2       1.00      0.81      0.90        16\n",
      "          3       1.00      1.00      1.00        13\n",
      "\n",
      "avg / total       0.94      0.93      0.93        42\n",
      "\n"
     ]
    }
   ],
   "source": [
    "print(\"Accuracy of predictions: %.2f\" %(accuracy_score(y_test, predictions) * 100))\n",
    "print(\"Classification Report for the MLP: \")\n",
    "print(classification_report(y_test, predictions))"
   ]
  },
  {
   "cell_type": "markdown",
   "metadata": {},
   "source": [
    "## Accuracy/Epoch"
   ]
  },
  {
   "cell_type": "code",
   "execution_count": 14,
   "metadata": {},
   "outputs": [
    {
     "name": "stderr",
     "output_type": "stream",
     "text": [
      "/usr/local/lib64/python3.6/site-packages/sklearn/neural_network/multilayer_perceptron.py:564: ConvergenceWarning: Stochastic Optimizer: Maximum iterations (250) reached and the optimization hasn't converged yet.\n",
      "  % self.max_iter, ConvergenceWarning)\n"
     ]
    }
   ],
   "source": [
    "graphy=[]\n",
    "graphx=[]\n",
    "for epoch in range(250,10000,250):\n",
    "    mlp = MLPClassifier(hidden_layer_sizes = (15,20,15), max_iter = epoch)\n",
    "    mlp.fit(X_train, y_train)\n",
    "    predictions = mlp.predict(X_test)\n",
    "    graphy.append(accuracy_score(predictions, y_test))\n",
    "    graphx.append(epoch)"
   ]
  },
  {
   "cell_type": "code",
   "execution_count": 15,
   "metadata": {},
   "outputs": [],
   "source": [
    "d= {'Epoch': graphx,'Accuracy':graphy}"
   ]
  },
  {
   "cell_type": "code",
   "execution_count": 16,
   "metadata": {},
   "outputs": [
    {
     "data": {
      "text/plain": [
       "Text(0.5,0,'Epoch')"
      ]
     },
     "execution_count": 16,
     "metadata": {},
     "output_type": "execute_result"
    },
    {
     "data": {
      "image/png": "[encoded data removed]",
      "text/plain": [
       "<Figure size 432x288 with 1 Axes>"
      ]
     },
     "metadata": {},
     "output_type": "display_data"
    }
   ],
   "source": [
    "plt.plot(\"Epoch\",\"Accuracy\",data=d)\n",
    "plt.ylabel('Accuracy')\n",
    "plt.xlabel('Epoch')"
   ]
  },
  {
   "cell_type": "code",
   "execution_count": 17,
   "metadata": {},
   "outputs": [
    {
     "name": "stdout",
     "output_type": "stream",
     "text": [
      "Number of epoches  accuracy\n",
      "250 \t 0.9285714285714286\n",
      "500 \t 0.9285714285714286\n",
      "750 \t 0.9285714285714286\n",
      "1000 \t 0.9285714285714286\n",
      "1250 \t 0.9285714285714286\n",
      "1500 \t 0.9285714285714286\n",
      "1750 \t 0.8809523809523809\n",
      "2000 \t 0.9285714285714286\n",
      "2250 \t 0.9047619047619048\n",
      "2500 \t 0.9523809523809523\n",
      "2750 \t 0.9523809523809523\n",
      "3000 \t 0.9047619047619048\n",
      "3250 \t 0.9285714285714286\n",
      "3500 \t 0.9523809523809523\n",
      "3750 \t 0.9523809523809523\n",
      "4000 \t 0.9285714285714286\n",
      "4250 \t 0.9285714285714286\n",
      "4500 \t 0.8809523809523809\n",
      "4750 \t 0.9285714285714286\n",
      "5000 \t 0.9523809523809523\n",
      "5250 \t 0.9047619047619048\n",
      "5500 \t 0.9047619047619048\n",
      "5750 \t 0.9285714285714286\n",
      "6000 \t 0.9047619047619048\n",
      "6250 \t 0.8809523809523809\n",
      "6500 \t 0.9285714285714286\n",
      "6750 \t 0.9285714285714286\n",
      "7000 \t 0.9523809523809523\n",
      "7250 \t 0.9047619047619048\n",
      "7500 \t 0.9285714285714286\n",
      "7750 \t 0.9523809523809523\n",
      "8000 \t 0.9047619047619048\n",
      "8250 \t 0.9285714285714286\n",
      "8500 \t 0.9523809523809523\n",
      "8750 \t 0.9523809523809523\n",
      "9000 \t 0.9523809523809523\n",
      "9250 \t 0.9523809523809523\n",
      "9500 \t 0.9523809523809523\n",
      "9750 \t 0.9285714285714286\n"
     ]
    }
   ],
   "source": [
    "print(\"Number of epoches  accuracy\")\n",
    "for i in range(0,len(graphx)):\n",
    "    print(graphx[i],\"\\t\",graphy[i])"
   ]
  },
  {
   "cell_type": "markdown",
   "metadata": {},
   "source": [
    "### We an now clearly see that the accuracy is changing based on number of epochs\n",
    "### We now try changing the number of nodes"
   ]
  },
  {
   "cell_type": "code",
   "execution_count": 18,
   "metadata": {},
   "outputs": [],
   "source": [
    "graphy=[]\n",
    "graphx=[]\n",
    "for nodes in range(1,20,1):\n",
    "    mlp = MLPClassifier(hidden_layer_sizes = (nodes,nodes,nodes), max_iter = 5000)\n",
    "    mlp.fit(X_train, y_train)\n",
    "    predictions = mlp.predict(X_test)\n",
    "    graphy.append(accuracy_score(predictions, y_test))\n",
    "    graphx.append(nodes)"
   ]
  },
  {
   "cell_type": "code",
   "execution_count": 19,
   "metadata": {},
   "outputs": [
    {
     "data": {
      "text/plain": [
       "Text(0.5,0,'Node')"
      ]
     },
     "execution_count": 19,
     "metadata": {},
     "output_type": "execute_result"
    },
    {
     "data": {
      "image/png": "[encoded data removed]",
      "text/plain": [
       "<Figure size 432x288 with 1 Axes>"
      ]
     },
     "metadata": {},
     "output_type": "display_data"
    }
   ],
   "source": [
    "plt.plot(graphx,graphy)\n",
    "plt.ylabel('Accuracy')\n",
    "plt.xlabel('Node')"
   ]
  },
  {
   "cell_type": "code",
   "execution_count": 20,
   "metadata": {},
   "outputs": [
    {
     "name": "stdout",
     "output_type": "stream",
     "text": [
      "Number of nodes  accuracy\n",
      "1 \t 0.30952380952380953\n",
      "2 \t 0.9047619047619048\n",
      "3 \t 0.9285714285714286\n",
      "4 \t 0.9285714285714286\n",
      "5 \t 0.9285714285714286\n",
      "6 \t 0.9523809523809523\n",
      "7 \t 0.9285714285714286\n",
      "8 \t 0.9047619047619048\n",
      "9 \t 0.9047619047619048\n",
      "10 \t 0.9523809523809523\n",
      "11 \t 0.9285714285714286\n",
      "12 \t 0.9047619047619048\n",
      "13 \t 0.9523809523809523\n",
      "14 \t 0.9523809523809523\n",
      "15 \t 0.9047619047619048\n",
      "16 \t 0.9285714285714286\n",
      "17 \t 0.9285714285714286\n",
      "18 \t 0.9523809523809523\n",
      "19 \t 0.9047619047619048\n"
     ]
    }
   ],
   "source": [
    "print(\"Number of nodes  accuracy\")\n",
    "for i in range(0,len(graphx)):\n",
    "    print(graphx[i],\"\\t\",graphy[i])"
   ]
  },
  {
   "cell_type": "markdown",
   "metadata": {},
   "source": [
    "### Now we'll try to add more layers to this and see how our accuracy stands up\n",
    "\n",
    "Now each layers will have 5 nurons/nodes"
   ]
  },
  {
   "cell_type": "code",
   "execution_count": 21,
   "metadata": {},
   "outputs": [],
   "source": [
    "graphy=[]\n",
    "graphx=[]\n",
    "layers=[5]\n",
    "for nodes in range(1,10,1):\n",
    "    mlp = MLPClassifier(hidden_layer_sizes = (layers), max_iter = 5000)\n",
    "    mlp.fit(X_train, y_train)\n",
    "    predictions = mlp.predict(X_test)\n",
    "    graphy.append(accuracy_score(predictions, y_test))\n",
    "    graphx.append(len(layers))\n",
    "    layers.append(5)"
   ]
  },
  {
   "cell_type": "code",
   "execution_count": 22,
   "metadata": {},
   "outputs": [
    {
     "data": {
      "text/plain": [
       "Text(0.5,0,'Layers')"
      ]
     },
     "execution_count": 22,
     "metadata": {},
     "output_type": "execute_result"
    },
    {
     "data": {
      "image/png": "[encoded data removed]",
      "text/plain": [
       "<Figure size 432x288 with 1 Axes>"
      ]
     },
     "metadata": {},
     "output_type": "display_data"
    }
   ],
   "source": [
    "plt.plot(graphx,graphy)\n",
    "plt.ylabel('Accuracy')\n",
    "plt.xlabel('Layers')"
   ]
  },
  {
   "cell_type": "code",
   "execution_count": 23,
   "metadata": {},
   "outputs": [
    {
     "name": "stdout",
     "output_type": "stream",
     "text": [
      "Layers  accuracy\n",
      "1 \t 0.9761904761904762\n",
      "2 \t 0.9523809523809523\n",
      "3 \t 0.9285714285714286\n",
      "4 \t 0.9285714285714286\n",
      "5 \t 0.9523809523809523\n",
      "6 \t 0.38095238095238093\n",
      "7 \t 0.9285714285714286\n",
      "8 \t 0.9285714285714286\n",
      "9 \t 0.9523809523809523\n"
     ]
    }
   ],
   "source": [
    "print(\"Layers  accuracy\")\n",
    "for i in range(0,len(graphx)):\n",
    "    print(graphx[i],\"\\t\",graphy[i])"
   ]
  },
  {
   "cell_type": "markdown",
   "metadata": {},
   "source": []
  }
 ],
 "metadata": {
  "kernelspec": {
   "display_name": "Python 3",
   "language": "python",
   "name": "python3"
  },
  "language_info": {
   "codemirror_mode": {
    "name": "ipython",
    "version": 3
   },
   "file_extension": ".py",
   "mimetype": "text/x-python",
   "name": "python",
   "nbconvert_exporter": "python",
   "pygments_lexer": "ipython3",
   "version": "3.6.6"
  }
 },
 "nbformat": 4,
 "nbformat_minor": 2
}
